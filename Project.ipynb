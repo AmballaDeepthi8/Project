{
 "cells": [
  {
   "cell_type": "code",
   "execution_count": 59,
   "id": "844124e1",
   "metadata": {},
   "outputs": [
    {
     "name": "stdout",
     "output_type": "stream",
     "text": [
      "First Combination For '4'  :  [[3, 1], [2, 2], [8, -4]]\n",
      "Merge into a single array : [-6, -4, -2, 1, 2, 2, 3, 8]\n",
      "[[8, 8, -2, -6], [8, 3, 3, -6], [8, 8, -4, -4], [8, 3, 1, -4], [8, 2, 2, -4], [8, 2, 2, -4], [8, 2, 2, -4], [8, 1, 1, -2], [3, 3, 1, 1], [3, 2, 2, 1], [3, 2, 2, 1], [3, 2, 2, 1], [2, 2, 2, 2], [2, 2, 2, 2], [2, 2, 2, 2], [2, 2, 2, 2], [2, 2, 2, 2]]\n"
     ]
    }
   ],
   "source": [
    "num=[1,3,2,2,-4,-6,-2,8]\n",
    "tar_val=4\n",
    "\n",
    "#Combination of target variable\n",
    "\n",
    "def ary1(num,tar_val):\n",
    "    dict={}\n",
    "    result=[]\n",
    "    \n",
    "    for i in num:\n",
    "        difference=tar_val-i\n",
    "        if difference in dict:\n",
    "            result.append([i,difference])\n",
    "        dict[i]=True\n",
    "    return result\n",
    "\n",
    "comb1=ary1(num,tar_val)\n",
    "print(\"First Combination For '4'  : \", comb1)\n",
    "\n",
    "\n",
    "#Merging and sorting the array\n",
    "\n",
    "def merge_sort(array):\n",
    "    if len(array)<=1:\n",
    "        return array\n",
    "    mid_value=len(array)//2\n",
    "    left=merge_sort(array[:mid_value])\n",
    "    right=merge_sort(array[mid_value:])\n",
    "    return merge(left,right)\n",
    "\n",
    "def merge(left,right):\n",
    "    merged_val=[]\n",
    "    i=j=0\n",
    "    while i<len(left) and j<len(right):\n",
    "        if left[i]<right[j]:\n",
    "            merged_val.append(left[i])\n",
    "            i=i+1\n",
    "        else:\n",
    "            merged_val.append(right[j])\n",
    "            j=j+1\n",
    "    merged_val.extend(left[i:])\n",
    "    merged_val.extend(right[j:])\n",
    "    return merged_val\n",
    "\n",
    "merged_array=merge_sort(num)\n",
    "print(\"Merge into a single array :\",merged_array)\n",
    "\n",
    "\n",
    "#Second combination for double value of a target value\n",
    "\n",
    "array=[1,3,2,2,-4,-6,-2,8]\n",
    "target=tar_val*2\n",
    "count=4\n",
    "\n",
    "def find_combinations(array, target, count):\n",
    "    results = []\n",
    "    combination = [0] * count\n",
    "    array.sort()\n",
    "    find_combinations_helper(array, target, count, 0, combination, results)\n",
    "    return results\n",
    "\n",
    "def find_combinations_helper(array, target, count, start, combination, results):\n",
    "    if count == 0 and target == 0:\n",
    "        results.append(combination.copy())\n",
    "        return\n",
    "    if count == 0 or target < 0:\n",
    "        return\n",
    "    for i in range(start, len(array)):\n",
    "        combination[count - 1] = array[i]\n",
    "        find_combinations_helper(array, target - array[i], count - 1, i, combination, results)\n",
    "\n",
    "combinations = find_combinations(array, target, count)\n",
    "print(combinations)"
   ]
  },
  {
   "cell_type": "code",
   "execution_count": null,
   "id": "69facd22",
   "metadata": {},
   "outputs": [],
   "source": []
  }
 ],
 "metadata": {
  "kernelspec": {
   "display_name": "Python 3 (ipykernel)",
   "language": "python",
   "name": "python3"
  },
  "language_info": {
   "codemirror_mode": {
    "name": "ipython",
    "version": 3
   },
   "file_extension": ".py",
   "mimetype": "text/x-python",
   "name": "python",
   "nbconvert_exporter": "python",
   "pygments_lexer": "ipython3",
   "version": "3.9.13"
  }
 },
 "nbformat": 4,
 "nbformat_minor": 5
}
